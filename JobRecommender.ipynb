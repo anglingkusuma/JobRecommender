{
  "nbformat": 4,
  "nbformat_minor": 0,
  "metadata": {
    "colab": {
      "provenance": []
    },
    "kernelspec": {
      "name": "python3",
      "display_name": "Python 3"
    },
    "language_info": {
      "name": "python"
    }
  },
  "cells": [
    {
      "cell_type": "markdown",
      "source": [
        "# **Importing Library**"
      ],
      "metadata": {
        "id": "-cOrQOlWj0nU"
      }
    },
    {
      "cell_type": "code",
      "execution_count": 51,
      "metadata": {
        "id": "o3T4AFE2Ef6U"
      },
      "outputs": [],
      "source": [
        "from google.colab import drive\n",
        "import pandas as pd\n",
        "import numpy as np"
      ]
    },
    {
      "cell_type": "markdown",
      "source": [
        "# **Importing Dataset**"
      ],
      "metadata": {
        "id": "_er8sCzwkA_F"
      }
    },
    {
      "cell_type": "code",
      "source": [
        "!git clone https://github.com/anglingkusuma/JobRecommender.git\n",
        "%cd JobRecommender\n",
        "\n",
        "dataset = pd.read_excel('Job_Description_and_Salary_in_Indonesia.xlsx')\n",
        "dataset.head(5)"
      ],
      "metadata": {
        "colab": {
          "base_uri": "https://localhost:8080/",
          "height": 664
        },
        "id": "42UqLNaZKSCc",
        "outputId": "a06f880e-c3a8-48ef-dcf6-599cd373f78e"
      },
      "execution_count": 52,
      "outputs": [
        {
          "output_type": "stream",
          "name": "stdout",
          "text": [
            "Cloning into 'JobRecommender'...\n",
            "remote: Enumerating objects: 7, done.\u001b[K\n",
            "remote: Counting objects:  14% (1/7)\u001b[K\rremote: Counting objects:  28% (2/7)\u001b[K\rremote: Counting objects:  42% (3/7)\u001b[K\rremote: Counting objects:  57% (4/7)\u001b[K\rremote: Counting objects:  71% (5/7)\u001b[K\rremote: Counting objects:  85% (6/7)\u001b[K\rremote: Counting objects: 100% (7/7)\u001b[K\rremote: Counting objects: 100% (7/7), done.\u001b[K\n",
            "remote: Compressing objects: 100% (6/6), done.\u001b[K\n",
            "remote: Total 7 (delta 0), reused 7 (delta 0), pack-reused 0 (from 0)\u001b[K\n",
            "Receiving objects: 100% (7/7), 14.37 MiB | 34.63 MiB/s, done.\n",
            "/content/JobRecommender/JobRecommender/JobRecommender/JobRecommender/JobRecommender\n"
          ]
        },
        {
          "output_type": "execute_result",
          "data": {
            "text/plain": [
              "   id                                       job_title       location  \\\n",
              "0   1  Facility Maintenance & Smart Warehouse Manager        Bandung   \n",
              "1   2                     Procurement Department Head   Jakarta Raya   \n",
              "2   3                                     SALES ADMIN  Jakarta Barat   \n",
              "3   4    City Operation Lead Shopee Express (Cirebon)        Cirebon   \n",
              "4   5                            Japanese Interpreter         Bekasi   \n",
              "\n",
              "  salary_currency                              career_level experience_level  \\\n",
              "0             IDR                   Manajer/Asisten Manajer          5 tahun   \n",
              "1             IDR                   Manajer/Asisten Manajer          5 tahun   \n",
              "2             IDR                    Supervisor/Koordinator          4 tahun   \n",
              "3             IDR                    Supervisor/Koordinator          5 tahun   \n",
              "4             IDR  Pegawai (non-manajemen & non-supervisor)          2 tahun   \n",
              "\n",
              "                                     education_level employment_type  \\\n",
              "0  Sertifikat Professional, D3 (Diploma), D4 (Dip...     Penuh Waktu   \n",
              "1  Sarjana (S1), Diploma Pascasarjana, Gelar Prof...     Penuh Waktu   \n",
              "2                                       Sarjana (S1)     Penuh Waktu   \n",
              "3  Sarjana (S1), Diploma Pascasarjana, Gelar Prof...     Penuh Waktu   \n",
              "4  Sertifikat Professional, D3 (Diploma), D4 (Dip...     Penuh Waktu   \n",
              "\n",
              "                              job_function  \\\n",
              "0                  Manufaktur,Pemeliharaan   \n",
              "1  Manufaktur,Pembelian/Manajemen Material   \n",
              "2    Penjualan / Pemasaran,Penjualan Ritel   \n",
              "3        Pelayanan,Logistik/Rantai Pasokan   \n",
              "4                  Lainnya,Jurnalis/Editor   \n",
              "\n",
              "                                        job_benefits company_process_time  \\\n",
              "0                                                NaN                  NaN   \n",
              "1                                                NaN              25 days   \n",
              "2  Waktu regular, Senin - Jumat;Bisnis (contoh: K...              30 days   \n",
              "3  Tip;Waktu regular, Senin - Jumat;Kasual (conto...              21 days   \n",
              "4                                                NaN              23 days   \n",
              "\n",
              "          company_size         company_industry  \\\n",
              "0                  NaN                      NaN   \n",
              "1     51 - 200 pekerja  Manajemen/Konsulting HR   \n",
              "2     51 - 200 pekerja            Umum & Grosir   \n",
              "3  2001 - 5000 pekerja       Retail/Merchandise   \n",
              "4    201 - 500 pekerja  Manajemen/Konsulting HR   \n",
              "\n",
              "                                     job_description  salary  \n",
              "0  Deskripsi PekerjaanRequirements :D3/SI from re...     NaN  \n",
              "1  Job Role: 1. Responsible for material availabi...     NaN  \n",
              "2  Internal Sales & AdminJob Description :We are ...     NaN  \n",
              "3  Job Description:Responsible for HSE implementa...     NaN  \n",
              "4  Overview: Our clients is manufacture for autom...     NaN  "
            ],
            "text/html": [
              "\n",
              "  <div id=\"df-cbecde06-a9f1-43c6-9ea0-d60a169cf5ec\" class=\"colab-df-container\">\n",
              "    <div>\n",
              "<style scoped>\n",
              "    .dataframe tbody tr th:only-of-type {\n",
              "        vertical-align: middle;\n",
              "    }\n",
              "\n",
              "    .dataframe tbody tr th {\n",
              "        vertical-align: top;\n",
              "    }\n",
              "\n",
              "    .dataframe thead th {\n",
              "        text-align: right;\n",
              "    }\n",
              "</style>\n",
              "<table border=\"1\" class=\"dataframe\">\n",
              "  <thead>\n",
              "    <tr style=\"text-align: right;\">\n",
              "      <th></th>\n",
              "      <th>id</th>\n",
              "      <th>job_title</th>\n",
              "      <th>location</th>\n",
              "      <th>salary_currency</th>\n",
              "      <th>career_level</th>\n",
              "      <th>experience_level</th>\n",
              "      <th>education_level</th>\n",
              "      <th>employment_type</th>\n",
              "      <th>job_function</th>\n",
              "      <th>job_benefits</th>\n",
              "      <th>company_process_time</th>\n",
              "      <th>company_size</th>\n",
              "      <th>company_industry</th>\n",
              "      <th>job_description</th>\n",
              "      <th>salary</th>\n",
              "    </tr>\n",
              "  </thead>\n",
              "  <tbody>\n",
              "    <tr>\n",
              "      <th>0</th>\n",
              "      <td>1</td>\n",
              "      <td>Facility Maintenance &amp; Smart Warehouse Manager</td>\n",
              "      <td>Bandung</td>\n",
              "      <td>IDR</td>\n",
              "      <td>Manajer/Asisten Manajer</td>\n",
              "      <td>5 tahun</td>\n",
              "      <td>Sertifikat Professional, D3 (Diploma), D4 (Dip...</td>\n",
              "      <td>Penuh Waktu</td>\n",
              "      <td>Manufaktur,Pemeliharaan</td>\n",
              "      <td>NaN</td>\n",
              "      <td>NaN</td>\n",
              "      <td>NaN</td>\n",
              "      <td>NaN</td>\n",
              "      <td>Deskripsi PekerjaanRequirements :D3/SI from re...</td>\n",
              "      <td>NaN</td>\n",
              "    </tr>\n",
              "    <tr>\n",
              "      <th>1</th>\n",
              "      <td>2</td>\n",
              "      <td>Procurement Department Head</td>\n",
              "      <td>Jakarta Raya</td>\n",
              "      <td>IDR</td>\n",
              "      <td>Manajer/Asisten Manajer</td>\n",
              "      <td>5 tahun</td>\n",
              "      <td>Sarjana (S1), Diploma Pascasarjana, Gelar Prof...</td>\n",
              "      <td>Penuh Waktu</td>\n",
              "      <td>Manufaktur,Pembelian/Manajemen Material</td>\n",
              "      <td>NaN</td>\n",
              "      <td>25 days</td>\n",
              "      <td>51 - 200 pekerja</td>\n",
              "      <td>Manajemen/Konsulting HR</td>\n",
              "      <td>Job Role: 1. Responsible for material availabi...</td>\n",
              "      <td>NaN</td>\n",
              "    </tr>\n",
              "    <tr>\n",
              "      <th>2</th>\n",
              "      <td>3</td>\n",
              "      <td>SALES ADMIN</td>\n",
              "      <td>Jakarta Barat</td>\n",
              "      <td>IDR</td>\n",
              "      <td>Supervisor/Koordinator</td>\n",
              "      <td>4 tahun</td>\n",
              "      <td>Sarjana (S1)</td>\n",
              "      <td>Penuh Waktu</td>\n",
              "      <td>Penjualan / Pemasaran,Penjualan Ritel</td>\n",
              "      <td>Waktu regular, Senin - Jumat;Bisnis (contoh: K...</td>\n",
              "      <td>30 days</td>\n",
              "      <td>51 - 200 pekerja</td>\n",
              "      <td>Umum &amp; Grosir</td>\n",
              "      <td>Internal Sales &amp; AdminJob Description :We are ...</td>\n",
              "      <td>NaN</td>\n",
              "    </tr>\n",
              "    <tr>\n",
              "      <th>3</th>\n",
              "      <td>4</td>\n",
              "      <td>City Operation Lead Shopee Express (Cirebon)</td>\n",
              "      <td>Cirebon</td>\n",
              "      <td>IDR</td>\n",
              "      <td>Supervisor/Koordinator</td>\n",
              "      <td>5 tahun</td>\n",
              "      <td>Sarjana (S1), Diploma Pascasarjana, Gelar Prof...</td>\n",
              "      <td>Penuh Waktu</td>\n",
              "      <td>Pelayanan,Logistik/Rantai Pasokan</td>\n",
              "      <td>Tip;Waktu regular, Senin - Jumat;Kasual (conto...</td>\n",
              "      <td>21 days</td>\n",
              "      <td>2001 - 5000 pekerja</td>\n",
              "      <td>Retail/Merchandise</td>\n",
              "      <td>Job Description:Responsible for HSE implementa...</td>\n",
              "      <td>NaN</td>\n",
              "    </tr>\n",
              "    <tr>\n",
              "      <th>4</th>\n",
              "      <td>5</td>\n",
              "      <td>Japanese Interpreter</td>\n",
              "      <td>Bekasi</td>\n",
              "      <td>IDR</td>\n",
              "      <td>Pegawai (non-manajemen &amp; non-supervisor)</td>\n",
              "      <td>2 tahun</td>\n",
              "      <td>Sertifikat Professional, D3 (Diploma), D4 (Dip...</td>\n",
              "      <td>Penuh Waktu</td>\n",
              "      <td>Lainnya,Jurnalis/Editor</td>\n",
              "      <td>NaN</td>\n",
              "      <td>23 days</td>\n",
              "      <td>201 - 500 pekerja</td>\n",
              "      <td>Manajemen/Konsulting HR</td>\n",
              "      <td>Overview: Our clients is manufacture for autom...</td>\n",
              "      <td>NaN</td>\n",
              "    </tr>\n",
              "  </tbody>\n",
              "</table>\n",
              "</div>\n",
              "    <div class=\"colab-df-buttons\">\n",
              "\n",
              "  <div class=\"colab-df-container\">\n",
              "    <button class=\"colab-df-convert\" onclick=\"convertToInteractive('df-cbecde06-a9f1-43c6-9ea0-d60a169cf5ec')\"\n",
              "            title=\"Convert this dataframe to an interactive table.\"\n",
              "            style=\"display:none;\">\n",
              "\n",
              "  <svg xmlns=\"http://www.w3.org/2000/svg\" height=\"24px\" viewBox=\"0 -960 960 960\">\n",
              "    <path d=\"M120-120v-720h720v720H120Zm60-500h600v-160H180v160Zm220 220h160v-160H400v160Zm0 220h160v-160H400v160ZM180-400h160v-160H180v160Zm440 0h160v-160H620v160ZM180-180h160v-160H180v160Zm440 0h160v-160H620v160Z\"/>\n",
              "  </svg>\n",
              "    </button>\n",
              "\n",
              "  <style>\n",
              "    .colab-df-container {\n",
              "      display:flex;\n",
              "      gap: 12px;\n",
              "    }\n",
              "\n",
              "    .colab-df-convert {\n",
              "      background-color: #E8F0FE;\n",
              "      border: none;\n",
              "      border-radius: 50%;\n",
              "      cursor: pointer;\n",
              "      display: none;\n",
              "      fill: #1967D2;\n",
              "      height: 32px;\n",
              "      padding: 0 0 0 0;\n",
              "      width: 32px;\n",
              "    }\n",
              "\n",
              "    .colab-df-convert:hover {\n",
              "      background-color: #E2EBFA;\n",
              "      box-shadow: 0px 1px 2px rgba(60, 64, 67, 0.3), 0px 1px 3px 1px rgba(60, 64, 67, 0.15);\n",
              "      fill: #174EA6;\n",
              "    }\n",
              "\n",
              "    .colab-df-buttons div {\n",
              "      margin-bottom: 4px;\n",
              "    }\n",
              "\n",
              "    [theme=dark] .colab-df-convert {\n",
              "      background-color: #3B4455;\n",
              "      fill: #D2E3FC;\n",
              "    }\n",
              "\n",
              "    [theme=dark] .colab-df-convert:hover {\n",
              "      background-color: #434B5C;\n",
              "      box-shadow: 0px 1px 3px 1px rgba(0, 0, 0, 0.15);\n",
              "      filter: drop-shadow(0px 1px 2px rgba(0, 0, 0, 0.3));\n",
              "      fill: #FFFFFF;\n",
              "    }\n",
              "  </style>\n",
              "\n",
              "    <script>\n",
              "      const buttonEl =\n",
              "        document.querySelector('#df-cbecde06-a9f1-43c6-9ea0-d60a169cf5ec button.colab-df-convert');\n",
              "      buttonEl.style.display =\n",
              "        google.colab.kernel.accessAllowed ? 'block' : 'none';\n",
              "\n",
              "      async function convertToInteractive(key) {\n",
              "        const element = document.querySelector('#df-cbecde06-a9f1-43c6-9ea0-d60a169cf5ec');\n",
              "        const dataTable =\n",
              "          await google.colab.kernel.invokeFunction('convertToInteractive',\n",
              "                                                    [key], {});\n",
              "        if (!dataTable) return;\n",
              "\n",
              "        const docLinkHtml = 'Like what you see? Visit the ' +\n",
              "          '<a target=\"_blank\" href=https://colab.research.google.com/notebooks/data_table.ipynb>data table notebook</a>'\n",
              "          + ' to learn more about interactive tables.';\n",
              "        element.innerHTML = '';\n",
              "        dataTable['output_type'] = 'display_data';\n",
              "        await google.colab.output.renderOutput(dataTable, element);\n",
              "        const docLink = document.createElement('div');\n",
              "        docLink.innerHTML = docLinkHtml;\n",
              "        element.appendChild(docLink);\n",
              "      }\n",
              "    </script>\n",
              "  </div>\n",
              "\n",
              "\n",
              "<div id=\"df-dff1b1f8-766b-487b-87ac-d4b6cf39f561\">\n",
              "  <button class=\"colab-df-quickchart\" onclick=\"quickchart('df-dff1b1f8-766b-487b-87ac-d4b6cf39f561')\"\n",
              "            title=\"Suggest charts\"\n",
              "            style=\"display:none;\">\n",
              "\n",
              "<svg xmlns=\"http://www.w3.org/2000/svg\" height=\"24px\"viewBox=\"0 0 24 24\"\n",
              "     width=\"24px\">\n",
              "    <g>\n",
              "        <path d=\"M19 3H5c-1.1 0-2 .9-2 2v14c0 1.1.9 2 2 2h14c1.1 0 2-.9 2-2V5c0-1.1-.9-2-2-2zM9 17H7v-7h2v7zm4 0h-2V7h2v10zm4 0h-2v-4h2v4z\"/>\n",
              "    </g>\n",
              "</svg>\n",
              "  </button>\n",
              "\n",
              "<style>\n",
              "  .colab-df-quickchart {\n",
              "      --bg-color: #E8F0FE;\n",
              "      --fill-color: #1967D2;\n",
              "      --hover-bg-color: #E2EBFA;\n",
              "      --hover-fill-color: #174EA6;\n",
              "      --disabled-fill-color: #AAA;\n",
              "      --disabled-bg-color: #DDD;\n",
              "  }\n",
              "\n",
              "  [theme=dark] .colab-df-quickchart {\n",
              "      --bg-color: #3B4455;\n",
              "      --fill-color: #D2E3FC;\n",
              "      --hover-bg-color: #434B5C;\n",
              "      --hover-fill-color: #FFFFFF;\n",
              "      --disabled-bg-color: #3B4455;\n",
              "      --disabled-fill-color: #666;\n",
              "  }\n",
              "\n",
              "  .colab-df-quickchart {\n",
              "    background-color: var(--bg-color);\n",
              "    border: none;\n",
              "    border-radius: 50%;\n",
              "    cursor: pointer;\n",
              "    display: none;\n",
              "    fill: var(--fill-color);\n",
              "    height: 32px;\n",
              "    padding: 0;\n",
              "    width: 32px;\n",
              "  }\n",
              "\n",
              "  .colab-df-quickchart:hover {\n",
              "    background-color: var(--hover-bg-color);\n",
              "    box-shadow: 0 1px 2px rgba(60, 64, 67, 0.3), 0 1px 3px 1px rgba(60, 64, 67, 0.15);\n",
              "    fill: var(--button-hover-fill-color);\n",
              "  }\n",
              "\n",
              "  .colab-df-quickchart-complete:disabled,\n",
              "  .colab-df-quickchart-complete:disabled:hover {\n",
              "    background-color: var(--disabled-bg-color);\n",
              "    fill: var(--disabled-fill-color);\n",
              "    box-shadow: none;\n",
              "  }\n",
              "\n",
              "  .colab-df-spinner {\n",
              "    border: 2px solid var(--fill-color);\n",
              "    border-color: transparent;\n",
              "    border-bottom-color: var(--fill-color);\n",
              "    animation:\n",
              "      spin 1s steps(1) infinite;\n",
              "  }\n",
              "\n",
              "  @keyframes spin {\n",
              "    0% {\n",
              "      border-color: transparent;\n",
              "      border-bottom-color: var(--fill-color);\n",
              "      border-left-color: var(--fill-color);\n",
              "    }\n",
              "    20% {\n",
              "      border-color: transparent;\n",
              "      border-left-color: var(--fill-color);\n",
              "      border-top-color: var(--fill-color);\n",
              "    }\n",
              "    30% {\n",
              "      border-color: transparent;\n",
              "      border-left-color: var(--fill-color);\n",
              "      border-top-color: var(--fill-color);\n",
              "      border-right-color: var(--fill-color);\n",
              "    }\n",
              "    40% {\n",
              "      border-color: transparent;\n",
              "      border-right-color: var(--fill-color);\n",
              "      border-top-color: var(--fill-color);\n",
              "    }\n",
              "    60% {\n",
              "      border-color: transparent;\n",
              "      border-right-color: var(--fill-color);\n",
              "    }\n",
              "    80% {\n",
              "      border-color: transparent;\n",
              "      border-right-color: var(--fill-color);\n",
              "      border-bottom-color: var(--fill-color);\n",
              "    }\n",
              "    90% {\n",
              "      border-color: transparent;\n",
              "      border-bottom-color: var(--fill-color);\n",
              "    }\n",
              "  }\n",
              "</style>\n",
              "\n",
              "  <script>\n",
              "    async function quickchart(key) {\n",
              "      const quickchartButtonEl =\n",
              "        document.querySelector('#' + key + ' button');\n",
              "      quickchartButtonEl.disabled = true;  // To prevent multiple clicks.\n",
              "      quickchartButtonEl.classList.add('colab-df-spinner');\n",
              "      try {\n",
              "        const charts = await google.colab.kernel.invokeFunction(\n",
              "            'suggestCharts', [key], {});\n",
              "      } catch (error) {\n",
              "        console.error('Error during call to suggestCharts:', error);\n",
              "      }\n",
              "      quickchartButtonEl.classList.remove('colab-df-spinner');\n",
              "      quickchartButtonEl.classList.add('colab-df-quickchart-complete');\n",
              "    }\n",
              "    (() => {\n",
              "      let quickchartButtonEl =\n",
              "        document.querySelector('#df-dff1b1f8-766b-487b-87ac-d4b6cf39f561 button');\n",
              "      quickchartButtonEl.style.display =\n",
              "        google.colab.kernel.accessAllowed ? 'block' : 'none';\n",
              "    })();\n",
              "  </script>\n",
              "</div>\n",
              "\n",
              "    </div>\n",
              "  </div>\n"
            ],
            "application/vnd.google.colaboratory.intrinsic+json": {
              "type": "dataframe",
              "variable_name": "dataset",
              "summary": "{\n  \"name\": \"dataset\",\n  \"rows\": 34746,\n  \"fields\": [\n    {\n      \"column\": \"id\",\n      \"properties\": {\n        \"dtype\": \"number\",\n        \"std\": 10030,\n        \"min\": 1,\n        \"max\": 34746,\n        \"num_unique_values\": 34746,\n        \"samples\": [\n          2002,\n          29555,\n          14859\n        ],\n        \"semantic_type\": \"\",\n        \"description\": \"\"\n      }\n    },\n    {\n      \"column\": \"job_title\",\n      \"properties\": {\n        \"dtype\": \"string\",\n        \"num_unique_values\": 20632,\n        \"samples\": [\n          \"Clinic Inventory (Medan)\",\n          \"SALES EXECUTIVE (JAKARTA)\",\n          \"Asisten Apoteker / Tenaga Teknik Kefarmasian\"\n        ],\n        \"semantic_type\": \"\",\n        \"description\": \"\"\n      }\n    },\n    {\n      \"column\": \"location\",\n      \"properties\": {\n        \"dtype\": \"category\",\n        \"num_unique_values\": 200,\n        \"samples\": [\n          \"Tuban\",\n          \"Medan\",\n          \"Serang\"\n        ],\n        \"semantic_type\": \"\",\n        \"description\": \"\"\n      }\n    },\n    {\n      \"column\": \"salary_currency\",\n      \"properties\": {\n        \"dtype\": \"category\",\n        \"num_unique_values\": 2,\n        \"samples\": [\n          \"USD\",\n          \"IDR\"\n        ],\n        \"semantic_type\": \"\",\n        \"description\": \"\"\n      }\n    },\n    {\n      \"column\": \"career_level\",\n      \"properties\": {\n        \"dtype\": \"category\",\n        \"num_unique_values\": 6,\n        \"samples\": [\n          \"Manajer/Asisten Manajer\",\n          \"Supervisor/Koordinator\"\n        ],\n        \"semantic_type\": \"\",\n        \"description\": \"\"\n      }\n    },\n    {\n      \"column\": \"experience_level\",\n      \"properties\": {\n        \"dtype\": \"category\",\n        \"num_unique_values\": 20,\n        \"samples\": [\n          \"5 tahun\",\n          \"16 tahun\"\n        ],\n        \"semantic_type\": \"\",\n        \"description\": \"\"\n      }\n    },\n    {\n      \"column\": \"education_level\",\n      \"properties\": {\n        \"dtype\": \"category\",\n        \"num_unique_values\": 21,\n        \"samples\": [\n          \"Sertifikat Professional, D3 (Diploma), D4 (Diploma), Sarjana (S1)\",\n          \"Sarjana (S1), Diploma Pascasarjana, Gelar Professional\"\n        ],\n        \"semantic_type\": \"\",\n        \"description\": \"\"\n      }\n    },\n    {\n      \"column\": \"employment_type\",\n      \"properties\": {\n        \"dtype\": \"category\",\n        \"num_unique_values\": 10,\n        \"samples\": [\n          \"Penuh Waktu, Paruh Waktu\",\n          \"Kontrak\"\n        ],\n        \"semantic_type\": \"\",\n        \"description\": \"\"\n      }\n    },\n    {\n      \"column\": \"job_function\",\n      \"properties\": {\n        \"dtype\": \"category\",\n        \"num_unique_values\": 68,\n        \"samples\": [\n          \"Pelayanan,Teknikal & Bantuan Pelanggan\",\n          \"Sumber Daya Manusia/Personalia,Sumber Daya Manusia / HR\"\n        ],\n        \"semantic_type\": \"\",\n        \"description\": \"\"\n      }\n    },\n    {\n      \"column\": \"job_benefits\",\n      \"properties\": {\n        \"dtype\": \"category\",\n        \"num_unique_values\": 3185,\n        \"samples\": [\n          \"Tunjangan Pendidikan;Asuransi kesehatan;Olahraga (contoh: pusat kebugaran);Parkir;Sabtu Casual;Senin - Sabtu\",\n          \"Asuransi kesehatan;Waktu regular, Senin - Jumat;Bisnis (contoh: Kemeja);Tempat tinggal\"\n        ],\n        \"semantic_type\": \"\",\n        \"description\": \"\"\n      }\n    },\n    {\n      \"column\": \"company_process_time\",\n      \"properties\": {\n        \"dtype\": \"category\",\n        \"num_unique_values\": 30,\n        \"samples\": [\n          \"3 days\",\n          \"5 days\"\n        ],\n        \"semantic_type\": \"\",\n        \"description\": \"\"\n      }\n    },\n    {\n      \"column\": \"company_size\",\n      \"properties\": {\n        \"dtype\": \"category\",\n        \"num_unique_values\": 7,\n        \"samples\": [\n          \"51 - 200 pekerja\",\n          \"2001 - 5000 pekerja\"\n        ],\n        \"semantic_type\": \"\",\n        \"description\": \"\"\n      }\n    },\n    {\n      \"column\": \"company_industry\",\n      \"properties\": {\n        \"dtype\": \"category\",\n        \"num_unique_values\": 58,\n        \"samples\": [\n          \"Manajemen/Konsulting HR\",\n          \"Properti/Real Estate\"\n        ],\n        \"semantic_type\": \"\",\n        \"description\": \"\"\n      }\n    },\n    {\n      \"column\": \"job_description\",\n      \"properties\": {\n        \"dtype\": \"string\",\n        \"num_unique_values\": 29285,\n        \"samples\": [\n          \"Change Management (Project-based Role)Job ID:R-30283Category:Human ResourcesLocation: Tangerang, BantenDate posted: 01/19/2022We are looking for Change Management Consultant (project-based role) who have :-Experienced in change management process (management consulting background will be plus point)-Strong leadership and communication-Strategic planning & project managementSome of the role's responsibilities are :-Mapping the current & desired process-Handling parallel projects & working with across teams in different functions-Identifying effective activity for the change management, ie. training, socialization, including training material for both internal and external stakeholder (campaign)-Engage with the trainer & business owners to build change management project (plan, timeline, approach, material, person in charge, etc)Unilever is an organisation committed to equity, inclusion and diversity to drive our business results and create a better future, every day, for our diverse employees, global consumers, partners, and communities. We believe a diverse workforce allows us to match our growth ambitions and drive inclusion across the business. At Unilever we are interested in every individual bringing their \\u2018Whole Self\\u2019 to work and this includes you! Thus if you require any support or access requirements, we encourage you to advise us at the time of your application so that we can support you through your recruitment journey.-\",\n          \"Tugas & Tanggung Jawab:Mencatat Mutasi (keluar-masuk) Barang;Mengklasifikasikan Barang Masuk Sesuai Jenisnya;Membandingkan Data dengan Jumlah Stok Fisik yang Tersedia;Pengecekan Stok Barang;Pengecekan Barang Retur dari Konsumen;Membuat Surat Jalan;Mencatat Penggunaan Barang di Gudang dan Mengarahkan Karyawan Lain yang Berhubungan dengan Gudang;Membuat Laporan Analisa.Persyaratan:Pendidikan SMA/ Diploma semua jurusan.Usia maksimal 35 tahun.Pengalaman minimal 2 tahun di posisi yang sama (Diutamakan Attitude & Skill).Paham Manajemen Gudang.Pernah menggunakan aplikasi Pergudangan.Teliti, Disiplin dan Bertanggung Jawab.Bersedia bekerja Senin sd Sabtu.\"\n        ],\n        \"semantic_type\": \"\",\n        \"description\": \"\"\n      }\n    },\n    {\n      \"column\": \"salary\",\n      \"properties\": {\n        \"dtype\": \"number\",\n        \"std\": 21481284.908647954,\n        \"min\": 10.0,\n        \"max\": 2000000000.0,\n        \"num_unique_values\": 571,\n        \"samples\": [\n          33600000.0,\n          4700000.0\n        ],\n        \"semantic_type\": \"\",\n        \"description\": \"\"\n      }\n    }\n  ]\n}"
            }
          },
          "metadata": {},
          "execution_count": 52
        }
      ]
    },
    {
      "cell_type": "markdown",
      "source": [
        "# **Data Preparation**"
      ],
      "metadata": {
        "id": "VEHjqe4cvLn8"
      }
    },
    {
      "cell_type": "markdown",
      "source": [
        "Removing unused column"
      ],
      "metadata": {
        "id": "Ydp9jjv0cw2S"
      }
    },
    {
      "cell_type": "code",
      "source": [
        "chosen_columns = ['id','job_title','location','career_level','experience_level','education_level','employment_type','job_function','company_size']\n",
        "df = dataset[chosen_columns]\n",
        "df.head(5)\n",
        "print('Number of rows in the dataset:', df.shape[0])"
      ],
      "metadata": {
        "colab": {
          "base_uri": "https://localhost:8080/"
        },
        "id": "D6kmq5vGYTJ7",
        "outputId": "147f5e87-161a-4edf-ed53-306ad2921134"
      },
      "execution_count": 53,
      "outputs": [
        {
          "output_type": "stream",
          "name": "stdout",
          "text": [
            "Number of rows in the dataset: 34746\n"
          ]
        }
      ]
    },
    {
      "cell_type": "markdown",
      "source": [
        "Standardize text data"
      ],
      "metadata": {
        "id": "dQjcjqoAc1Qr"
      }
    },
    {
      "cell_type": "code",
      "source": [
        "df = df.map(lambda x: x.lower() if isinstance(x, str) else x)\n",
        "df.head(5)\n",
        "print('Number of rows in the dataset:', df.shape[0])"
      ],
      "metadata": {
        "colab": {
          "base_uri": "https://localhost:8080/"
        },
        "id": "lrKK3mMCZgBU",
        "outputId": "adce74a0-dac2-4b98-d8cd-cc16b8a1dcc1"
      },
      "execution_count": 54,
      "outputs": [
        {
          "output_type": "stream",
          "name": "stdout",
          "text": [
            "Number of rows in the dataset: 34746\n"
          ]
        }
      ]
    },
    {
      "cell_type": "markdown",
      "source": [
        "Identify missing value"
      ],
      "metadata": {
        "id": "ELyecxEyc9Y5"
      }
    },
    {
      "cell_type": "code",
      "source": [
        "df.isnull().sum()"
      ],
      "metadata": {
        "colab": {
          "base_uri": "https://localhost:8080/",
          "height": 367
        },
        "id": "8ZKvY09xZSln",
        "outputId": "57bd57bf-f72d-4017-8697-176ec361ccc6"
      },
      "execution_count": 55,
      "outputs": [
        {
          "output_type": "execute_result",
          "data": {
            "text/plain": [
              "id                     0\n",
              "job_title              0\n",
              "location               0\n",
              "career_level           0\n",
              "experience_level    4541\n",
              "education_level        0\n",
              "employment_type     1344\n",
              "job_function           0\n",
              "company_size        5643\n",
              "dtype: int64"
            ],
            "text/html": [
              "<div>\n",
              "<style scoped>\n",
              "    .dataframe tbody tr th:only-of-type {\n",
              "        vertical-align: middle;\n",
              "    }\n",
              "\n",
              "    .dataframe tbody tr th {\n",
              "        vertical-align: top;\n",
              "    }\n",
              "\n",
              "    .dataframe thead th {\n",
              "        text-align: right;\n",
              "    }\n",
              "</style>\n",
              "<table border=\"1\" class=\"dataframe\">\n",
              "  <thead>\n",
              "    <tr style=\"text-align: right;\">\n",
              "      <th></th>\n",
              "      <th>0</th>\n",
              "    </tr>\n",
              "  </thead>\n",
              "  <tbody>\n",
              "    <tr>\n",
              "      <th>id</th>\n",
              "      <td>0</td>\n",
              "    </tr>\n",
              "    <tr>\n",
              "      <th>job_title</th>\n",
              "      <td>0</td>\n",
              "    </tr>\n",
              "    <tr>\n",
              "      <th>location</th>\n",
              "      <td>0</td>\n",
              "    </tr>\n",
              "    <tr>\n",
              "      <th>career_level</th>\n",
              "      <td>0</td>\n",
              "    </tr>\n",
              "    <tr>\n",
              "      <th>experience_level</th>\n",
              "      <td>4541</td>\n",
              "    </tr>\n",
              "    <tr>\n",
              "      <th>education_level</th>\n",
              "      <td>0</td>\n",
              "    </tr>\n",
              "    <tr>\n",
              "      <th>employment_type</th>\n",
              "      <td>1344</td>\n",
              "    </tr>\n",
              "    <tr>\n",
              "      <th>job_function</th>\n",
              "      <td>0</td>\n",
              "    </tr>\n",
              "    <tr>\n",
              "      <th>company_size</th>\n",
              "      <td>5643</td>\n",
              "    </tr>\n",
              "  </tbody>\n",
              "</table>\n",
              "</div><br><label><b>dtype:</b> int64</label>"
            ]
          },
          "metadata": {},
          "execution_count": 55
        }
      ]
    },
    {
      "cell_type": "markdown",
      "source": [
        "Drop rows with missing value"
      ],
      "metadata": {
        "id": "qy7jJMA4dJyC"
      }
    },
    {
      "cell_type": "code",
      "source": [
        "df.dropna(inplace=True)\n",
        "df.isnull().sum()\n",
        "print('Number of rows in the dataset:', df.shape[0])"
      ],
      "metadata": {
        "colab": {
          "base_uri": "https://localhost:8080/"
        },
        "id": "1-iTGnfvaJaP",
        "outputId": "418c93d5-9b3e-4ba5-ac64-0bca5c8e19c6"
      },
      "execution_count": 56,
      "outputs": [
        {
          "output_type": "stream",
          "name": "stdout",
          "text": [
            "Number of rows in the dataset: 25936\n"
          ]
        }
      ]
    },
    {
      "cell_type": "markdown",
      "source": [
        "Check and remove duplicate row"
      ],
      "metadata": {
        "id": "AU1fMC-NfI-1"
      }
    },
    {
      "cell_type": "code",
      "source": [
        "df.duplicated().sum()\n",
        "df.drop_duplicates(inplace=True)\n",
        "print('Number of rows in the dataset:', df.shape[0])"
      ],
      "metadata": {
        "colab": {
          "base_uri": "https://localhost:8080/"
        },
        "id": "qTVIFIZCdzBc",
        "outputId": "e4a922f1-fb31-4d3f-eed8-6c08f14c7550"
      },
      "execution_count": 57,
      "outputs": [
        {
          "output_type": "execute_result",
          "data": {
            "text/plain": [
              "0"
            ]
          },
          "metadata": {},
          "execution_count": 57
        }
      ]
    },
    {
      "cell_type": "markdown",
      "source": [
        "Check unique value"
      ],
      "metadata": {
        "id": "PdN51HEKfctp"
      }
    },
    {
      "cell_type": "code",
      "source": [
        "df.nunique()"
      ],
      "metadata": {
        "colab": {
          "base_uri": "https://localhost:8080/",
          "height": 367
        },
        "id": "kr2nB-cXZO-D",
        "outputId": "56497f1d-b416-45a9-b8a8-4dbf21d4c9f8"
      },
      "execution_count": 59,
      "outputs": [
        {
          "output_type": "execute_result",
          "data": {
            "text/plain": [
              "id                  25936\n",
              "job_title           15324\n",
              "location              193\n",
              "career_level            5\n",
              "experience_level       18\n",
              "education_level        19\n",
              "employment_type         7\n",
              "job_function           68\n",
              "company_size            7\n",
              "dtype: int64"
            ],
            "text/html": [
              "<div>\n",
              "<style scoped>\n",
              "    .dataframe tbody tr th:only-of-type {\n",
              "        vertical-align: middle;\n",
              "    }\n",
              "\n",
              "    .dataframe tbody tr th {\n",
              "        vertical-align: top;\n",
              "    }\n",
              "\n",
              "    .dataframe thead th {\n",
              "        text-align: right;\n",
              "    }\n",
              "</style>\n",
              "<table border=\"1\" class=\"dataframe\">\n",
              "  <thead>\n",
              "    <tr style=\"text-align: right;\">\n",
              "      <th></th>\n",
              "      <th>0</th>\n",
              "    </tr>\n",
              "  </thead>\n",
              "  <tbody>\n",
              "    <tr>\n",
              "      <th>id</th>\n",
              "      <td>25936</td>\n",
              "    </tr>\n",
              "    <tr>\n",
              "      <th>job_title</th>\n",
              "      <td>15324</td>\n",
              "    </tr>\n",
              "    <tr>\n",
              "      <th>location</th>\n",
              "      <td>193</td>\n",
              "    </tr>\n",
              "    <tr>\n",
              "      <th>career_level</th>\n",
              "      <td>5</td>\n",
              "    </tr>\n",
              "    <tr>\n",
              "      <th>experience_level</th>\n",
              "      <td>18</td>\n",
              "    </tr>\n",
              "    <tr>\n",
              "      <th>education_level</th>\n",
              "      <td>19</td>\n",
              "    </tr>\n",
              "    <tr>\n",
              "      <th>employment_type</th>\n",
              "      <td>7</td>\n",
              "    </tr>\n",
              "    <tr>\n",
              "      <th>job_function</th>\n",
              "      <td>68</td>\n",
              "    </tr>\n",
              "    <tr>\n",
              "      <th>company_size</th>\n",
              "      <td>7</td>\n",
              "    </tr>\n",
              "  </tbody>\n",
              "</table>\n",
              "</div><br><label><b>dtype:</b> int64</label>"
            ]
          },
          "metadata": {},
          "execution_count": 59
        }
      ]
    },
    {
      "cell_type": "code",
      "source": [
        "df['experience_level'] = df['experience_level'].str.replace('lebih dari ', '')\n",
        "df['experience_level'] = df['experience_level'].str.replace(' tahun', '')\n",
        "df['experience_level'] = df['experience_level'].replace(np.nan, 0)\n",
        "df['experience_level'] = df['experience_level'].astype(int)"
      ],
      "metadata": {
        "id": "f5k4yR0mjfip"
      },
      "execution_count": 60,
      "outputs": []
    },
    {
      "cell_type": "code",
      "source": [
        "df['education_level'] = df['education_level'].astype('category')\n",
        "df['location'] = df['location'].astype('category')\n",
        "df['employment_type'] = df['employment_type'].astype('category')\n",
        "\n",
        "print(df.dtypes)"
      ],
      "metadata": {
        "colab": {
          "base_uri": "https://localhost:8080/"
        },
        "id": "b-8Bh0orjABI",
        "outputId": "3231eb83-d900-49e8-a614-0e4933c732fe"
      },
      "execution_count": 61,
      "outputs": [
        {
          "output_type": "stream",
          "name": "stdout",
          "text": [
            "id                     int64\n",
            "job_title             object\n",
            "location            category\n",
            "career_level          object\n",
            "experience_level       int64\n",
            "education_level     category\n",
            "employment_type     category\n",
            "job_function          object\n",
            "company_size          object\n",
            "dtype: object\n"
          ]
        }
      ]
    },
    {
      "cell_type": "code",
      "source": [
        "def recommend_jobs(experience, education, location=None, employment_type=None):\n",
        "    filtered_df = df[\n",
        "        (df['experience_level'] <= experience) &\n",
        "        (df['education_level'].str.contains(education, case=False))\n",
        "    ]\n",
        "\n",
        "    if location:\n",
        "        filtered_df = filtered_df[filtered_df['location'].str.contains(location, case=False)]\n",
        "\n",
        "    if employment_type:\n",
        "        filtered_df = filtered_df[filtered_df['employment_type'].str.contains(employment_type, case=False)]\n",
        "\n",
        "    recommended_jobs = filtered_df.sort_values(by='experience_level', ascending=True)\n",
        "\n",
        "    return recommended_jobs[['id', 'location', 'experience_level', 'education_level', 'employment_type']]\n",
        "\n",
        "recommended_jobs = recommend_jobs(5, 's3', location='bandung', employment_type='penuh waktu')\n",
        "print(recommended_jobs)"
      ],
      "metadata": {
        "colab": {
          "base_uri": "https://localhost:8080/"
        },
        "id": "s5oMMZaJyzqx",
        "outputId": "0e84bd29-6080-498c-abaa-909150e711c9"
      },
      "execution_count": 62,
      "outputs": [
        {
          "output_type": "stream",
          "name": "stdout",
          "text": [
            "          id location  experience_level  \\\n",
            "20037  20038  bandung                 1   \n",
            "5940    5941  bandung                 2   \n",
            "13758  13759  bandung                 2   \n",
            "29381  29382  bandung                 2   \n",
            "8380    8381  bandung                 5   \n",
            "\n",
            "                                         education_level employment_type  \n",
            "20037                                        doktor (s3)     penuh waktu  \n",
            "5940   sarjana (s1), diploma pascasarjana, gelar prof...     penuh waktu  \n",
            "13758  sarjana (s1), diploma pascasarjana, gelar prof...     penuh waktu  \n",
            "29381  diploma pascasarjana, gelar professional, magi...     penuh waktu  \n",
            "8380   sarjana (s1), diploma pascasarjana, gelar prof...     penuh waktu  \n"
          ]
        }
      ]
    }
  ]
}